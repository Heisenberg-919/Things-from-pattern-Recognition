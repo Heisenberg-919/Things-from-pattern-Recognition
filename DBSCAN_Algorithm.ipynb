{
  "nbformat": 4,
  "nbformat_minor": 0,
  "metadata": {
    "colab": {
      "provenance": []
    },
    "kernelspec": {
      "name": "python3",
      "display_name": "Python 3"
    },
    "language_info": {
      "name": "python"
    }
  },
  "cells": [
    {
      "cell_type": "code",
      "execution_count": null,
      "metadata": {
        "id": "5-ekEehrylC1"
      },
      "outputs": [],
      "source": [
        "# Import necessary libraries\n",
        "from sklearn.cluster import DBSCAN\n",
        "from sklearn.datasets import make_blobs\n",
        "import matplotlib.pyplot as plt\n",
        "\n",
        "# Step 1: Generate synthetic data for clustering (optional, or replace with your data)\n",
        "X, y = make_blobs(n_samples=300, centers=4, cluster_std=0.6, random_state=42)\n",
        "\n",
        "# Step 2: Visualize the generated data (optional)\n",
        "plt.scatter(X[:, 0], X[:, 1], s=50)\n",
        "plt.title(\"Data Points\")\n",
        "plt.xlabel(\"Feature 1\")\n",
        "plt.ylabel(\"Feature 2\")\n",
        "plt.show()\n",
        "\n",
        "# Step 3: Initialize and fit the DBSCAN model\n",
        "# `eps` is the maximum distance between two samples for them to be considered as neighbors.\n",
        "# `min_samples` is the minimum number of samples required to form a dense region (cluster).\n",
        "eps_value = 0.5\n",
        "min_samples_value = 5\n",
        "model = DBSCAN(eps=eps_value, min_samples=min_samples_value)\n",
        "\n",
        "# Fit the model to the data\n",
        "cluster_labels = model.fit_predict(X)\n",
        "\n",
        "# Step 4: Plot the clusters with their assigned labels\n",
        "# Points labeled as -1 are considered noise\n",
        "plt.scatter(X[:, 0], X[:, 1], c=cluster_labels, cmap='viridis', s=50)\n",
        "plt.title(f\"DBSCAN Clustering (eps={eps_value}, min_samples={min_samples_value})\")\n",
        "plt.xlabel(\"Feature 1\")\n",
        "plt.ylabel(\"Feature 2\")\n",
        "plt.show()\n"
      ]
    }
  ]
}